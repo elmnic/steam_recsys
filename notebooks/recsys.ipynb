{
 "cells": [
  {
   "cell_type": "code",
   "execution_count": 1,
   "metadata": {},
   "outputs": [],
   "source": [
    "import pandas as pd\n",
    "import numpy as np\n",
    "from sklearn.metrics.pairwise import cosine_similarity\n",
    "from scipy.spatial.distance import cosine, correlation\n",
    "from IPython.display import display\n",
    "import random"
   ]
  },
  {
   "cell_type": "markdown",
   "metadata": {},
   "source": [
    "# Read user data"
   ]
  },
  {
   "cell_type": "code",
   "execution_count": 2,
   "metadata": {},
   "outputs": [
    {
     "data": {
      "text/html": [
       "<div>\n",
       "<style scoped>\n",
       "    .dataframe tbody tr th:only-of-type {\n",
       "        vertical-align: middle;\n",
       "    }\n",
       "\n",
       "    .dataframe tbody tr th {\n",
       "        vertical-align: top;\n",
       "    }\n",
       "\n",
       "    .dataframe thead th {\n",
       "        text-align: right;\n",
       "    }\n",
       "</style>\n",
       "<table border=\"1\" class=\"dataframe\">\n",
       "  <thead>\n",
       "    <tr style=\"text-align: right;\">\n",
       "      <th></th>\n",
       "      <th>steamid</th>\n",
       "      <th>appid</th>\n",
       "    </tr>\n",
       "  </thead>\n",
       "  <tbody>\n",
       "    <tr>\n",
       "      <th>0</th>\n",
       "      <td>76561198013196620</td>\n",
       "      <td>111800</td>\n",
       "    </tr>\n",
       "    <tr>\n",
       "      <th>1</th>\n",
       "      <td>76561198011737710</td>\n",
       "      <td>72850</td>\n",
       "    </tr>\n",
       "    <tr>\n",
       "      <th>2</th>\n",
       "      <td>76561198013247670</td>\n",
       "      <td>12210</td>\n",
       "    </tr>\n",
       "    <tr>\n",
       "      <th>3</th>\n",
       "      <td>76561198013442400</td>\n",
       "      <td>203770</td>\n",
       "    </tr>\n",
       "    <tr>\n",
       "      <th>4</th>\n",
       "      <td>76561198012059990</td>\n",
       "      <td>107410</td>\n",
       "    </tr>\n",
       "  </tbody>\n",
       "</table>\n",
       "</div>"
      ],
      "text/plain": [
       "             steamid   appid\n",
       "0  76561198013196620  111800\n",
       "1  76561198011737710   72850\n",
       "2  76561198013247670   12210\n",
       "3  76561198013442400  203770\n",
       "4  76561198012059990  107410"
      ]
     },
     "execution_count": 2,
     "metadata": {},
     "output_type": "execute_result"
    }
   ],
   "source": [
    "all_user_games = pd.read_csv('../data/processed/all_user_games.csv').dropna()\n",
    "all_user_games = all_user_games[['steamid', 'appid']]\n",
    "all_user_games.head()"
   ]
  },
  {
   "cell_type": "code",
   "execution_count": 3,
   "metadata": {},
   "outputs": [
    {
     "data": {
      "text/html": [
       "<div>\n",
       "<style scoped>\n",
       "    .dataframe tbody tr th:only-of-type {\n",
       "        vertical-align: middle;\n",
       "    }\n",
       "\n",
       "    .dataframe tbody tr th {\n",
       "        vertical-align: top;\n",
       "    }\n",
       "\n",
       "    .dataframe thead th {\n",
       "        text-align: right;\n",
       "    }\n",
       "</style>\n",
       "<table border=\"1\" class=\"dataframe\">\n",
       "  <thead>\n",
       "    <tr style=\"text-align: right;\">\n",
       "      <th></th>\n",
       "      <th>steamid</th>\n",
       "      <th>appid</th>\n",
       "    </tr>\n",
       "  </thead>\n",
       "  <tbody>\n",
       "    <tr>\n",
       "      <th>0</th>\n",
       "      <td>76561198013196620</td>\n",
       "      <td>111800</td>\n",
       "    </tr>\n",
       "    <tr>\n",
       "      <th>1</th>\n",
       "      <td>76561198011737710</td>\n",
       "      <td>72850</td>\n",
       "    </tr>\n",
       "    <tr>\n",
       "      <th>2</th>\n",
       "      <td>76561198013247670</td>\n",
       "      <td>12210</td>\n",
       "    </tr>\n",
       "    <tr>\n",
       "      <th>3</th>\n",
       "      <td>76561198013442400</td>\n",
       "      <td>203770</td>\n",
       "    </tr>\n",
       "    <tr>\n",
       "      <th>4</th>\n",
       "      <td>76561198012059990</td>\n",
       "      <td>107410</td>\n",
       "    </tr>\n",
       "  </tbody>\n",
       "</table>\n",
       "</div>"
      ],
      "text/plain": [
       "             steamid   appid\n",
       "0  76561198013196620  111800\n",
       "1  76561198011737710   72850\n",
       "2  76561198013247670   12210\n",
       "3  76561198013442400  203770\n",
       "4  76561198012059990  107410"
      ]
     },
     "execution_count": 3,
     "metadata": {},
     "output_type": "execute_result"
    }
   ],
   "source": [
    "all_user_games.head()"
   ]
  },
  {
   "cell_type": "code",
   "execution_count": 4,
   "metadata": {},
   "outputs": [
    {
     "name": "stdout",
     "output_type": "stream",
     "text": [
      "1252208\n"
     ]
    }
   ],
   "source": [
    "print(len(all_user_games.index))"
   ]
  },
  {
   "cell_type": "code",
   "execution_count": 5,
   "metadata": {},
   "outputs": [],
   "source": [
    "user_data = pd.read_csv('../data/processed/user_info.csv')\n",
    "\n",
    "#user_data.head()"
   ]
  },
  {
   "cell_type": "markdown",
   "metadata": {},
   "source": [
    "# Read game data"
   ]
  },
  {
   "cell_type": "code",
   "execution_count": 6,
   "metadata": {},
   "outputs": [],
   "source": [
    "game_data = pd.read_csv('../data/processed/games_info_v3.csv')\n",
    "#game_data[game_data.appid == 570].head()"
   ]
  },
  {
   "cell_type": "markdown",
   "metadata": {},
   "source": [
    "# Read game genres as text"
   ]
  },
  {
   "cell_type": "code",
   "execution_count": 7,
   "metadata": {},
   "outputs": [],
   "source": [
    "game_genres_text = pd.read_csv('../data/processed/genres_text.csv')\n",
    "#game_genres_text.head()"
   ]
  },
  {
   "cell_type": "markdown",
   "metadata": {},
   "source": [
    "# Get OHE game genres"
   ]
  },
  {
   "cell_type": "code",
   "execution_count": 8,
   "metadata": {},
   "outputs": [],
   "source": [
    "genre_cols = [col for col in game_data.columns if 'Genre_' in col]\n",
    "game_genres = game_data[['appid', 'Release_Date'] + genre_cols]\n",
    "#game_genres.head()"
   ]
  },
  {
   "cell_type": "markdown",
   "metadata": {},
   "source": [
    "# Get the most played game per user over a 2-week period as a starting point\n",
    "This game's genres are used as the starting point for the recommender system"
   ]
  },
  {
   "cell_type": "code",
   "execution_count": 9,
   "metadata": {},
   "outputs": [],
   "source": [
    "users_data_top_game = user_data.sort_values('playtime_2weeks', ascending=False).drop_duplicates('steamid')\n",
    "#users_data_top_game.head()"
   ]
  },
  {
   "cell_type": "markdown",
   "metadata": {},
   "source": [
    "# Create dataframes to use with similarity function\n",
    "Users time with their most played game and the game's genres in one dataframe\n",
    "\n",
    "Games time and their genres in one dataframe"
   ]
  },
  {
   "cell_type": "markdown",
   "metadata": {},
   "source": [
    "#### User dataframe for similarity calc"
   ]
  },
  {
   "cell_type": "code",
   "execution_count": 10,
   "metadata": {},
   "outputs": [],
   "source": [
    "user_genres_sim = users_data_top_game.merge(game_genres, on='appid', how='inner', suffixes=('', '_y'))\n",
    "user_genres_sim.drop(columns=['playtime_2weeks', 'playtime_forever'], inplace=True)\n",
    "user_genres_sim.rename(columns = {'user_2weeks_playtime': 'time'}, inplace=True)\n",
    "user_genres_sim = user_genres_sim.astype('int64')\n",
    "#user_genres_sim.head()"
   ]
  },
  {
   "cell_type": "markdown",
   "metadata": {},
   "source": [
    "#### Games dataframe for similarity calc"
   ]
  },
  {
   "cell_type": "code",
   "execution_count": 11,
   "metadata": {
    "scrolled": true
   },
   "outputs": [],
   "source": [
    "game_genres_sim = game_data[['average_forever', 'Release_Date'] + genre_cols].copy()\n",
    "game_genres_sim.rename(columns = {'average_forever': 'time'}, inplace=True)\n",
    "#game_genres_sim.head()"
   ]
  },
  {
   "cell_type": "markdown",
   "metadata": {},
   "source": [
    "# Similarity values here!"
   ]
  },
  {
   "cell_type": "code",
   "execution_count": 24,
   "metadata": {},
   "outputs": [
    {
     "name": "stdout",
     "output_type": "stream",
     "text": [
      "[1.0, 0.5, 1.0, 1.5, 1.0, 1.0, 1.0, 1.0, 1.0, 1.0, 1.0, 1.5, 1.0, 1.0, 1.0, 1.0, 1.0, 1.0, 1.0, 1.0, 1.5, 1.0, 1.0, 1.0]\n"
     ]
    }
   ],
   "source": [
    "# Gather user data\n",
    "rand_val = random.randint(0, len(user_genres_sim.index)-1)\n",
    "x_data = user_genres_sim.iloc[rand_val].copy()\n",
    "x_user = x_data[['steamid', 'appid']]\n",
    "x_data.drop(index=['steamid', 'appid'], axis=1, inplace=True)\n",
    "\n",
    "# Gather game data\n",
    "y_data = game_genres_sim\n",
    "\n",
    "# Generate weights. The common genres are more heavily weighted.\n",
    "weights = [1.5 if x_data[i] and 'Genre_' in i else 0.5 if 'Release_Date' in i else 1.0 for i in y_data.columns]\n",
    "print(weights)\n",
    "\n",
    "# Create cosine similarity using weights\n",
    "sims = []\n",
    "for index, row in y_data.iterrows():\n",
    "    sims.append(1 - cosine(x_data, row, weights))\n",
    "sims = pd.DataFrame(sims)\n",
    "\n",
    "# Create dataframe and assign appid to the respective cosine value\n",
    "cosine_values = pd.concat([sims, game_genres['appid']], axis=1)\n",
    "cosine_values.rename(columns={0: 'similarity'}, inplace=True)\n",
    "cosine_values.sort_values(by='similarity', ascending=False, inplace=True)\n",
    "#display(cosine_values.head())"
   ]
  },
  {
   "cell_type": "markdown",
   "metadata": {},
   "source": [
    "# Merge top 10 similarity values with their respective titles and info"
   ]
  },
  {
   "cell_type": "code",
   "execution_count": 25,
   "metadata": {},
   "outputs": [],
   "source": [
    "cols = ['appid', 'Title', 'Release_Date', 'negative', 'positive', 'developer', 'publisher', 'Rating']\n",
    "top_ten = cosine_values[:10]\n",
    "rec_genres = top_ten.merge(game_data[['appid'] + genre_cols], on='appid', how='inner', suffixes=('', '_y'))\n",
    "recommendations = top_ten.merge(game_data[cols], on='appid', how='inner', suffixes=('', '_y'))\n",
    "recommendations = recommendations.merge(game_genres_text, on='appid', how='inner', suffixes=('', '_y'))\n",
    "recommendations = recommendations.sort_values(by='similarity', ascending=False).reset_index(drop=True)\n",
    "#recommendations.head(10)"
   ]
  },
  {
   "cell_type": "markdown",
   "metadata": {},
   "source": [
    "# Info about the user's game"
   ]
  },
  {
   "cell_type": "code",
   "execution_count": 26,
   "metadata": {
    "scrolled": true
   },
   "outputs": [],
   "source": [
    "user_info = users_data_top_game[users_data_top_game.steamid == x_user.steamid]\n",
    "user_game_info = game_data[game_data['appid'] == int(user_info.appid)].copy()\n",
    "user_game_info.drop(columns=genre_cols, axis=1, inplace=True)\n",
    "user_game_info = user_game_info[cols].merge(game_genres_text, on='appid', how='inner')\n",
    "#user_game_info.head()"
   ]
  },
  {
   "cell_type": "markdown",
   "metadata": {},
   "source": [
    "# Print user game and recommendations"
   ]
  },
  {
   "cell_type": "code",
   "execution_count": 27,
   "metadata": {},
   "outputs": [
    {
     "name": "stdout",
     "output_type": "stream",
     "text": [
      "Based on a playtime of 3813 minutes by user: 76561198028684278 and their recently most played game:\n"
     ]
    },
    {
     "data": {
      "text/html": [
       "<div>\n",
       "<style scoped>\n",
       "    .dataframe tbody tr th:only-of-type {\n",
       "        vertical-align: middle;\n",
       "    }\n",
       "\n",
       "    .dataframe tbody tr th {\n",
       "        vertical-align: top;\n",
       "    }\n",
       "\n",
       "    .dataframe thead th {\n",
       "        text-align: right;\n",
       "    }\n",
       "</style>\n",
       "<table border=\"1\" class=\"dataframe\">\n",
       "  <thead>\n",
       "    <tr style=\"text-align: right;\">\n",
       "      <th></th>\n",
       "      <th>appid</th>\n",
       "      <th>Title</th>\n",
       "      <th>Release_Date</th>\n",
       "      <th>negative</th>\n",
       "      <th>positive</th>\n",
       "      <th>developer</th>\n",
       "      <th>publisher</th>\n",
       "      <th>Rating</th>\n",
       "      <th>Genre</th>\n",
       "    </tr>\n",
       "  </thead>\n",
       "  <tbody>\n",
       "    <tr>\n",
       "      <th>0</th>\n",
       "      <td>570</td>\n",
       "      <td>Dota 2</td>\n",
       "      <td>2013</td>\n",
       "      <td>142513</td>\n",
       "      <td>864822</td>\n",
       "      <td>Valve</td>\n",
       "      <td>Valve</td>\n",
       "      <td>90</td>\n",
       "      <td>Action|Free to Play|Strategy</td>\n",
       "    </tr>\n",
       "  </tbody>\n",
       "</table>\n",
       "</div>"
      ],
      "text/plain": [
       "   appid   Title  Release_Date  negative  positive developer publisher  \\\n",
       "0    570  Dota 2          2013    142513    864822     Valve     Valve   \n",
       "\n",
       "   Rating                         Genre  \n",
       "0      90  Action|Free to Play|Strategy  "
      ]
     },
     "metadata": {},
     "output_type": "display_data"
    },
    {
     "name": "stdout",
     "output_type": "stream",
     "text": [
      "\n",
      "\n",
      "Recommended games with similar playtime and genre, sorted by recommended:\n"
     ]
    },
    {
     "data": {
      "text/html": [
       "<div>\n",
       "<style scoped>\n",
       "    .dataframe tbody tr th:only-of-type {\n",
       "        vertical-align: middle;\n",
       "    }\n",
       "\n",
       "    .dataframe tbody tr th {\n",
       "        vertical-align: top;\n",
       "    }\n",
       "\n",
       "    .dataframe thead th {\n",
       "        text-align: right;\n",
       "    }\n",
       "</style>\n",
       "<table border=\"1\" class=\"dataframe\">\n",
       "  <thead>\n",
       "    <tr style=\"text-align: right;\">\n",
       "      <th></th>\n",
       "      <th>similarity</th>\n",
       "      <th>appid</th>\n",
       "      <th>Title</th>\n",
       "      <th>Release_Date</th>\n",
       "      <th>negative</th>\n",
       "      <th>positive</th>\n",
       "      <th>developer</th>\n",
       "      <th>publisher</th>\n",
       "      <th>Rating</th>\n",
       "      <th>Genre</th>\n",
       "    </tr>\n",
       "  </thead>\n",
       "  <tbody>\n",
       "    <tr>\n",
       "      <th>0</th>\n",
       "      <td>0.999997</td>\n",
       "      <td>9940</td>\n",
       "      <td>Blade Kitten</td>\n",
       "      <td>2014</td>\n",
       "      <td>149</td>\n",
       "      <td>747</td>\n",
       "      <td>Krome Studios</td>\n",
       "      <td>Krome Studios</td>\n",
       "      <td>52</td>\n",
       "      <td>Action|Adventure</td>\n",
       "    </tr>\n",
       "    <tr>\n",
       "      <th>1</th>\n",
       "      <td>0.999984</td>\n",
       "      <td>8500</td>\n",
       "      <td>EVE Online</td>\n",
       "      <td>2010</td>\n",
       "      <td>2852</td>\n",
       "      <td>8334</td>\n",
       "      <td>CCP</td>\n",
       "      <td>CCP</td>\n",
       "      <td>88</td>\n",
       "      <td>Massively Multiplayer|RPG</td>\n",
       "    </tr>\n",
       "    <tr>\n",
       "      <th>2</th>\n",
       "      <td>0.999958</td>\n",
       "      <td>238750</td>\n",
       "      <td>Might &amp; Magic X - Legacy</td>\n",
       "      <td>2014</td>\n",
       "      <td>780</td>\n",
       "      <td>1576</td>\n",
       "      <td>Ubisoft</td>\n",
       "      <td>Ubisoft</td>\n",
       "      <td>70</td>\n",
       "      <td>RPG</td>\n",
       "    </tr>\n",
       "    <tr>\n",
       "      <th>3</th>\n",
       "      <td>0.999840</td>\n",
       "      <td>46790</td>\n",
       "      <td>Armada 2526</td>\n",
       "      <td>2011</td>\n",
       "      <td>12</td>\n",
       "      <td>14</td>\n",
       "      <td>Ntronium Games</td>\n",
       "      <td>Iceberg Interactive</td>\n",
       "      <td>66</td>\n",
       "      <td>Strategy</td>\n",
       "    </tr>\n",
       "    <tr>\n",
       "      <th>4</th>\n",
       "      <td>0.999764</td>\n",
       "      <td>218620</td>\n",
       "      <td>PAYDAY 2</td>\n",
       "      <td>2013</td>\n",
       "      <td>56508</td>\n",
       "      <td>308894</td>\n",
       "      <td>OVERKILL - a Starbreeze Studio.</td>\n",
       "      <td>Starbreeze Publishing AB</td>\n",
       "      <td>79</td>\n",
       "      <td>Action|RPG</td>\n",
       "    </tr>\n",
       "    <tr>\n",
       "      <th>5</th>\n",
       "      <td>0.999429</td>\n",
       "      <td>500</td>\n",
       "      <td>Left 4 Dead</td>\n",
       "      <td>2008</td>\n",
       "      <td>952</td>\n",
       "      <td>18010</td>\n",
       "      <td>Valve</td>\n",
       "      <td>Valve</td>\n",
       "      <td>89</td>\n",
       "      <td>Action</td>\n",
       "    </tr>\n",
       "    <tr>\n",
       "      <th>6</th>\n",
       "      <td>0.999243</td>\n",
       "      <td>22380</td>\n",
       "      <td>Fallout: New Vegas</td>\n",
       "      <td>2010</td>\n",
       "      <td>3155</td>\n",
       "      <td>66864</td>\n",
       "      <td>Obsidian Entertainment</td>\n",
       "      <td>Bethesda Softworks</td>\n",
       "      <td>84</td>\n",
       "      <td>Action|RPG</td>\n",
       "    </tr>\n",
       "    <tr>\n",
       "      <th>7</th>\n",
       "      <td>0.999234</td>\n",
       "      <td>220240</td>\n",
       "      <td>Far Cry 3</td>\n",
       "      <td>2012</td>\n",
       "      <td>5622</td>\n",
       "      <td>46356</td>\n",
       "      <td>Ubisoft Montreal, Massive Entertainment, and U...</td>\n",
       "      <td>Ubisoft</td>\n",
       "      <td>88</td>\n",
       "      <td>Action|Adventure</td>\n",
       "    </tr>\n",
       "    <tr>\n",
       "      <th>8</th>\n",
       "      <td>0.998874</td>\n",
       "      <td>2810</td>\n",
       "      <td>X3: Reunion</td>\n",
       "      <td>2006</td>\n",
       "      <td>114</td>\n",
       "      <td>282</td>\n",
       "      <td>Egosoft</td>\n",
       "      <td>Egosoft</td>\n",
       "      <td>71</td>\n",
       "      <td>Strategy</td>\n",
       "    </tr>\n",
       "    <tr>\n",
       "      <th>9</th>\n",
       "      <td>0.998227</td>\n",
       "      <td>214950</td>\n",
       "      <td>Total War™: ROME II - Emperor Edition</td>\n",
       "      <td>2013</td>\n",
       "      <td>13431</td>\n",
       "      <td>31912</td>\n",
       "      <td>CREATIVE ASSEMBLY</td>\n",
       "      <td>SEGA</td>\n",
       "      <td>76</td>\n",
       "      <td>Strategy</td>\n",
       "    </tr>\n",
       "  </tbody>\n",
       "</table>\n",
       "</div>"
      ],
      "text/plain": [
       "   similarity   appid                                  Title  Release_Date  \\\n",
       "0    0.999997    9940                           Blade Kitten          2014   \n",
       "1    0.999984    8500                             EVE Online          2010   \n",
       "2    0.999958  238750               Might & Magic X - Legacy          2014   \n",
       "3    0.999840   46790                            Armada 2526          2011   \n",
       "4    0.999764  218620                               PAYDAY 2          2013   \n",
       "5    0.999429     500                            Left 4 Dead          2008   \n",
       "6    0.999243   22380                     Fallout: New Vegas          2010   \n",
       "7    0.999234  220240                              Far Cry 3          2012   \n",
       "8    0.998874    2810                            X3: Reunion          2006   \n",
       "9    0.998227  214950  Total War™: ROME II - Emperor Edition          2013   \n",
       "\n",
       "   negative  positive                                          developer  \\\n",
       "0       149       747                                      Krome Studios   \n",
       "1      2852      8334                                                CCP   \n",
       "2       780      1576                                            Ubisoft   \n",
       "3        12        14                                     Ntronium Games   \n",
       "4     56508    308894                    OVERKILL - a Starbreeze Studio.   \n",
       "5       952     18010                                              Valve   \n",
       "6      3155     66864                             Obsidian Entertainment   \n",
       "7      5622     46356  Ubisoft Montreal, Massive Entertainment, and U...   \n",
       "8       114       282                                            Egosoft   \n",
       "9     13431     31912                                  CREATIVE ASSEMBLY   \n",
       "\n",
       "                  publisher  Rating                      Genre  \n",
       "0             Krome Studios      52           Action|Adventure  \n",
       "1                       CCP      88  Massively Multiplayer|RPG  \n",
       "2                   Ubisoft      70                        RPG  \n",
       "3       Iceberg Interactive      66                   Strategy  \n",
       "4  Starbreeze Publishing AB      79                 Action|RPG  \n",
       "5                     Valve      89                     Action  \n",
       "6        Bethesda Softworks      84                 Action|RPG  \n",
       "7                   Ubisoft      88           Action|Adventure  \n",
       "8                   Egosoft      71                   Strategy  \n",
       "9                      SEGA      76                   Strategy  "
      ]
     },
     "metadata": {},
     "output_type": "display_data"
    },
    {
     "name": "stdout",
     "output_type": "stream",
     "text": [
      "8 out of 15 genres match\n"
     ]
    }
   ],
   "source": [
    "print('Based on a playtime of %i minutes by user: %i and their recently most played game:' % (user_info.user_2weeks_playtime, x_user.steamid))\n",
    "display(user_game_info)\n",
    "\n",
    "print('\\n')\n",
    "\n",
    "print(\"Recommended games with similar playtime and genre, sorted by recommended:\")\n",
    "display(recommendations)\n",
    "\n",
    "\n",
    "# Score based on the number of genres that are the same\n",
    "x_genres = pd.DataFrame(x_data[genre_cols]).T\n",
    "y_genres = rec_genres[genre_cols]\n",
    "\n",
    "matches = 0.0\n",
    "other_count = 0\n",
    "for index, row in y_genres.iterrows():\n",
    "    matches += (x_genres & row).sum(axis=1)\n",
    "    other_count += row.sum(axis=0)\n",
    "genre_score = matches/other_count\n",
    "    \n",
    "# Score is how many times any of the user's genres appear in any of the recommended games' genres\n",
    "print(\"%i out of %i genres match\" % (matches, other_count))"
   ]
  },
  {
   "cell_type": "code",
   "execution_count": null,
   "metadata": {},
   "outputs": [],
   "source": []
  }
 ],
 "metadata": {
  "kernelspec": {
   "display_name": "Python 3",
   "language": "python",
   "name": "python3"
  },
  "language_info": {
   "codemirror_mode": {
    "name": "ipython",
    "version": 3
   },
   "file_extension": ".py",
   "mimetype": "text/x-python",
   "name": "python",
   "nbconvert_exporter": "python",
   "pygments_lexer": "ipython3",
   "version": "3.8.0"
  }
 },
 "nbformat": 4,
 "nbformat_minor": 4
}
