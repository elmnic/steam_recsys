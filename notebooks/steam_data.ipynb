{
 "cells": [
  {
   "cell_type": "code",
   "execution_count": 3,
   "metadata": {},
   "outputs": [],
   "source": [
    "import pandas as pd\n",
    "import dask.dataframe as dd\n",
    "dataloc = '../data/'"
   ]
  },
  {
   "cell_type": "code",
   "execution_count": 4,
   "metadata": {},
   "outputs": [
    {
     "data": {
      "text/plain": [
       "\"\\ngames_genres = pd.read_csv(dataloc + 'raw/csv/Games_Genres.csv')\\ngames_info = pd.read_csv(dataloc + 'raw/csv/app_id_info_2.csv')\\ngames_1_genres = pd.read_csv(dataloc + 'interim/export/Games_1_Genres_800k.csv').drop(columns=['dateretrieved'])\\nsteamspy = pd.read_json(dataloc + 'external/steamspy.json', orient='index').sort_values(by=['appid'])\\ngames_processed = pd.read_csv(dataloc + 'interim/export/games_info_ratings.csv')\\n\""
      ]
     },
     "execution_count": 4,
     "metadata": {},
     "output_type": "execute_result"
    }
   ],
   "source": [
    "games_1 = dd.read_csv(dataloc + 'raw/csv/Games_1.csv')\n",
    "'''\n",
    "games_genres = pd.read_csv(dataloc + 'raw/csv/Games_Genres.csv')\n",
    "games_info = pd.read_csv(dataloc + 'raw/csv/app_id_info_2.csv')\n",
    "games_1_genres = pd.read_csv(dataloc + 'interim/export/Games_1_Genres_800k.csv').drop(columns=['dateretrieved'])\n",
    "steamspy = pd.read_json(dataloc + 'external/steamspy.json', orient='index').sort_values(by=['appid'])\n",
    "games_processed = pd.read_csv(dataloc + 'interim/export/games_info_ratings.csv')\n",
    "'''"
   ]
  },
  {
   "cell_type": "code",
   "execution_count": 10,
   "metadata": {},
   "outputs": [],
   "source": [
    "final_users = dd.read_csv(dataloc + 'processed/user_info.csv')"
   ]
  },
  {
   "cell_type": "markdown",
   "metadata": {},
   "source": [
    "# Find games the final users have played to test against"
   ]
  },
  {
   "cell_type": "code",
   "execution_count": 11,
   "metadata": {},
   "outputs": [
    {
     "ename": "TypeError",
     "evalue": "'<' not supported between instances of 'str' and 'int'",
     "output_type": "error",
     "traceback": [
      "\u001b[1;31m---------------------------------------------------------------------------\u001b[0m",
      "\u001b[1;31mTypeError\u001b[0m                                 Traceback (most recent call last)",
      "\u001b[1;32m<ipython-input-11-7c6bae2d1c54>\u001b[0m in \u001b[0;36m<module>\u001b[1;34m\u001b[0m\n\u001b[1;32m----> 1\u001b[1;33m \u001b[0mset_of_users\u001b[0m \u001b[1;33m=\u001b[0m \u001b[0mfinal_users\u001b[0m\u001b[1;33m.\u001b[0m\u001b[0mdrop_duplicates\u001b[0m\u001b[1;33m(\u001b[0m\u001b[1;34m'steamid'\u001b[0m\u001b[1;33m)\u001b[0m\u001b[1;33m[\u001b[0m\u001b[1;33m:\u001b[0m\u001b[1;36m1000\u001b[0m\u001b[1;33m]\u001b[0m\u001b[1;33m\u001b[0m\u001b[1;33m\u001b[0m\u001b[0m\n\u001b[0m",
      "\u001b[1;32mc:\\users\\nicke\\appdata\\local\\programs\\python\\python36\\lib\\site-packages\\dask\\dataframe\\core.py\u001b[0m in \u001b[0;36mdrop_duplicates\u001b[1;34m(self, split_every, split_out, **kwargs)\u001b[0m\n\u001b[0;32m    451\u001b[0m                    \u001b[0mtoken\u001b[0m\u001b[1;33m=\u001b[0m\u001b[1;34m'drop-duplicates'\u001b[0m\u001b[1;33m,\u001b[0m \u001b[0msplit_every\u001b[0m\u001b[1;33m=\u001b[0m\u001b[0msplit_every\u001b[0m\u001b[1;33m,\u001b[0m\u001b[1;33m\u001b[0m\u001b[1;33m\u001b[0m\u001b[0m\n\u001b[0;32m    452\u001b[0m                    \u001b[0msplit_out\u001b[0m\u001b[1;33m=\u001b[0m\u001b[0msplit_out\u001b[0m\u001b[1;33m,\u001b[0m \u001b[0msplit_out_setup\u001b[0m\u001b[1;33m=\u001b[0m\u001b[0msplit_out_setup\u001b[0m\u001b[1;33m,\u001b[0m\u001b[1;33m\u001b[0m\u001b[1;33m\u001b[0m\u001b[0m\n\u001b[1;32m--> 453\u001b[1;33m                    split_out_setup_kwargs=split_out_setup_kwargs, **kwargs)\n\u001b[0m\u001b[0;32m    454\u001b[0m \u001b[1;33m\u001b[0m\u001b[0m\n\u001b[0;32m    455\u001b[0m     \u001b[1;32mdef\u001b[0m \u001b[0m__len__\u001b[0m\u001b[1;33m(\u001b[0m\u001b[0mself\u001b[0m\u001b[1;33m)\u001b[0m\u001b[1;33m:\u001b[0m\u001b[1;33m\u001b[0m\u001b[1;33m\u001b[0m\u001b[0m\n",
      "\u001b[1;32mc:\\users\\nicke\\appdata\\local\\programs\\python\\python36\\lib\\site-packages\\dask\\dataframe\\core.py\u001b[0m in \u001b[0;36mapply_concat_apply\u001b[1;34m(args, chunk, aggregate, combine, meta, token, chunk_kwargs, aggregate_kwargs, combine_kwargs, split_every, split_out, split_out_setup, split_out_setup_kwargs, **kwargs)\u001b[0m\n\u001b[0;32m   3661\u001b[0m     \u001b[1;32melif\u001b[0m \u001b[0msplit_every\u001b[0m \u001b[1;32mis\u001b[0m \u001b[1;32mFalse\u001b[0m\u001b[1;33m:\u001b[0m\u001b[1;33m\u001b[0m\u001b[1;33m\u001b[0m\u001b[0m\n\u001b[0;32m   3662\u001b[0m         \u001b[0msplit_every\u001b[0m \u001b[1;33m=\u001b[0m \u001b[0mnpartitions\u001b[0m\u001b[1;33m\u001b[0m\u001b[1;33m\u001b[0m\u001b[0m\n\u001b[1;32m-> 3663\u001b[1;33m     \u001b[1;32melif\u001b[0m \u001b[0msplit_every\u001b[0m \u001b[1;33m<\u001b[0m \u001b[1;36m2\u001b[0m \u001b[1;32mor\u001b[0m \u001b[1;32mnot\u001b[0m \u001b[0misinstance\u001b[0m\u001b[1;33m(\u001b[0m\u001b[0msplit_every\u001b[0m\u001b[1;33m,\u001b[0m \u001b[0mIntegral\u001b[0m\u001b[1;33m)\u001b[0m\u001b[1;33m:\u001b[0m\u001b[1;33m\u001b[0m\u001b[1;33m\u001b[0m\u001b[0m\n\u001b[0m\u001b[0;32m   3664\u001b[0m         \u001b[1;32mraise\u001b[0m \u001b[0mValueError\u001b[0m\u001b[1;33m(\u001b[0m\u001b[1;34m\"split_every must be an integer >= 2\"\u001b[0m\u001b[1;33m)\u001b[0m\u001b[1;33m\u001b[0m\u001b[1;33m\u001b[0m\u001b[0m\n\u001b[0;32m   3665\u001b[0m \u001b[1;33m\u001b[0m\u001b[0m\n",
      "\u001b[1;31mTypeError\u001b[0m: '<' not supported between instances of 'str' and 'int'"
     ]
    }
   ],
   "source": [
    "set_of_users = final_users.drop_duplicates('steamid')[:1000]"
   ]
  },
  {
   "cell_type": "code",
   "execution_count": 6,
   "metadata": {},
   "outputs": [],
   "source": [
    "final_games = final_users.merge(games_1, on='steamid', how='inner', suffixes=('', '_y'))"
   ]
  },
  {
   "cell_type": "code",
   "execution_count": 14,
   "metadata": {},
   "outputs": [],
   "source": [
    "final_reparted = final_games.sample(frac=0.20).repartition(npartitions=1).compute()\n",
    "final_reparted = final_reparted.dropna()\n",
    "final_reparted.to_csv(dataloc + 'processed/all_user_games.csv', index=False)"
   ]
  },
  {
   "cell_type": "markdown",
   "metadata": {},
   "source": [
    "# Clean steamspy data"
   ]
  },
  {
   "cell_type": "code",
   "execution_count": 45,
   "metadata": {},
   "outputs": [],
   "source": [
    "droppedspy = steamspy.drop(columns=['discount', 'initialprice', 'owners', 'price', 'score_rank', 'userscore', 'name'])\n",
    "appinfo = games_processed[['appid', 'Genre', 'Title', 'Rating']].drop_duplicates(subset='appid', keep='first')\n",
    "appinfo.head()\n",
    "\n",
    "gamespy_merge = droppedspy.merge(appinfo, on='appid', how='inner', suffixes=('', '_Y'))\n",
    "gamespy_merge.to_csv(dataloc + 'processed/export/games_info.csv', index=False)"
   ]
  },
  {
   "cell_type": "markdown",
   "metadata": {},
   "source": [
    "# Extra cleaning of user data"
   ]
  },
  {
   "cell_type": "code",
   "execution_count": 49,
   "metadata": {},
   "outputs": [],
   "source": [
    "games_processed.head()\n",
    "#games_processed.drop(columns=['Genre', 'Title', 'Rating'], inplace=True)\n",
    "games_processed.to_csv(dataloc + 'processed/export/user_info.csv', index=False)"
   ]
  },
  {
   "cell_type": "markdown",
   "metadata": {},
   "source": [
    "# Game info with rating\n",
    "Clean game info table"
   ]
  },
  {
   "cell_type": "markdown",
   "metadata": {},
   "source": [
    "##### Remove Genre column after realising it isn't as one column"
   ]
  },
  {
   "cell_type": "code",
   "execution_count": 4,
   "metadata": {},
   "outputs": [],
   "source": [
    "temp = pd.read_csv(dataloc + 'processed/export/games_info.csv').drop('Genre', axis=1)\n",
    "temp.to_csv(dataloc + 'processed/export/games_info.csv', index=False)"
   ]
  },
  {
   "cell_type": "markdown",
   "metadata": {},
   "source": [
    "##### Also join game genre with game info"
   ]
  },
  {
   "cell_type": "code",
   "execution_count": 8,
   "metadata": {},
   "outputs": [],
   "source": [
    "genre = pd.read_csv(dataloc + 'processed/export/games_genres_ohe.csv')\n",
    "new_games_info = temp.merge(genre, on='appid', how='inner', suffixes=('', '_y'))\n",
    "new_games_info.to_csv(dataloc + 'processed/export/games_info_v2.csv', index=False)"
   ]
  },
  {
   "cell_type": "markdown",
   "metadata": {},
   "source": [
    "### Keeping on"
   ]
  },
  {
   "cell_type": "code",
   "execution_count": 3,
   "metadata": {},
   "outputs": [
    {
     "ename": "AttributeError",
     "evalue": "'DataFrame' object has no attribute 'Type'",
     "output_type": "error",
     "traceback": [
      "\u001b[1;31m---------------------------------------------------------------------------\u001b[0m",
      "\u001b[1;31mAttributeError\u001b[0m                            Traceback (most recent call last)",
      "\u001b[1;32m<ipython-input-3-18b7bae810c8>\u001b[0m in \u001b[0;36m<module>\u001b[1;34m\u001b[0m\n\u001b[0;32m      3\u001b[0m \u001b[0mgames_info_with_rating\u001b[0m \u001b[1;33m=\u001b[0m \u001b[0mgames_info_with_rating\u001b[0m\u001b[1;33m[\u001b[0m\u001b[0mgames_info_with_rating\u001b[0m\u001b[1;33m.\u001b[0m\u001b[0mType\u001b[0m \u001b[1;33m!=\u001b[0m \u001b[1;34m'video'\u001b[0m\u001b[1;33m]\u001b[0m\u001b[1;33m\u001b[0m\u001b[1;33m\u001b[0m\u001b[0m\n\u001b[0;32m      4\u001b[0m \u001b[0mgames_info_with_rating\u001b[0m\u001b[1;33m.\u001b[0m\u001b[0mdrop\u001b[0m\u001b[1;33m(\u001b[0m\u001b[0mcolumns\u001b[0m\u001b[1;33m=\u001b[0m\u001b[1;33m[\u001b[0m\u001b[1;34m'Type'\u001b[0m\u001b[1;33m,\u001b[0m \u001b[1;34m'Price'\u001b[0m\u001b[1;33m,\u001b[0m \u001b[1;34m'Release_Date'\u001b[0m\u001b[1;33m,\u001b[0m \u001b[1;34m'Required_Age'\u001b[0m\u001b[1;33m,\u001b[0m \u001b[1;34m'Is_Multiplayer'\u001b[0m\u001b[1;33m]\u001b[0m\u001b[1;33m,\u001b[0m \u001b[0minplace\u001b[0m\u001b[1;33m=\u001b[0m\u001b[1;32mTrue\u001b[0m\u001b[1;33m)\u001b[0m\u001b[1;33m\u001b[0m\u001b[1;33m\u001b[0m\u001b[0m\n\u001b[1;32m----> 5\u001b[1;33m \u001b[0mgames_info_with_rating\u001b[0m\u001b[1;33m.\u001b[0m\u001b[0mType\u001b[0m\u001b[1;33m.\u001b[0m\u001b[0mnunique\u001b[0m\u001b[1;33m(\u001b[0m\u001b[1;33m)\u001b[0m\u001b[1;33m\u001b[0m\u001b[1;33m\u001b[0m\u001b[0m\n\u001b[0m",
      "\u001b[1;32mc:\\users\\nicke\\appdata\\local\\programs\\python\\python36\\lib\\site-packages\\pandas\\core\\generic.py\u001b[0m in \u001b[0;36m__getattr__\u001b[1;34m(self, name)\u001b[0m\n\u001b[0;32m   5065\u001b[0m             \u001b[1;32mif\u001b[0m \u001b[0mself\u001b[0m\u001b[1;33m.\u001b[0m\u001b[0m_info_axis\u001b[0m\u001b[1;33m.\u001b[0m\u001b[0m_can_hold_identifiers_and_holds_name\u001b[0m\u001b[1;33m(\u001b[0m\u001b[0mname\u001b[0m\u001b[1;33m)\u001b[0m\u001b[1;33m:\u001b[0m\u001b[1;33m\u001b[0m\u001b[1;33m\u001b[0m\u001b[0m\n\u001b[0;32m   5066\u001b[0m                 \u001b[1;32mreturn\u001b[0m \u001b[0mself\u001b[0m\u001b[1;33m[\u001b[0m\u001b[0mname\u001b[0m\u001b[1;33m]\u001b[0m\u001b[1;33m\u001b[0m\u001b[1;33m\u001b[0m\u001b[0m\n\u001b[1;32m-> 5067\u001b[1;33m             \u001b[1;32mreturn\u001b[0m \u001b[0mobject\u001b[0m\u001b[1;33m.\u001b[0m\u001b[0m__getattribute__\u001b[0m\u001b[1;33m(\u001b[0m\u001b[0mself\u001b[0m\u001b[1;33m,\u001b[0m \u001b[0mname\u001b[0m\u001b[1;33m)\u001b[0m\u001b[1;33m\u001b[0m\u001b[1;33m\u001b[0m\u001b[0m\n\u001b[0m\u001b[0;32m   5068\u001b[0m \u001b[1;33m\u001b[0m\u001b[0m\n\u001b[0;32m   5069\u001b[0m     \u001b[1;32mdef\u001b[0m \u001b[0m__setattr__\u001b[0m\u001b[1;33m(\u001b[0m\u001b[0mself\u001b[0m\u001b[1;33m,\u001b[0m \u001b[0mname\u001b[0m\u001b[1;33m,\u001b[0m \u001b[0mvalue\u001b[0m\u001b[1;33m)\u001b[0m\u001b[1;33m:\u001b[0m\u001b[1;33m\u001b[0m\u001b[1;33m\u001b[0m\u001b[0m\n",
      "\u001b[1;31mAttributeError\u001b[0m: 'DataFrame' object has no attribute 'Type'"
     ]
    }
   ],
   "source": [
    "games_info_with_rating = games_info[games_info.Rating > -1]\n",
    "games_info_with_rating = games_info_with_rating[games_info_with_rating.Type != 'demo']\n",
    "games_info_with_rating = games_info_with_rating[games_info_with_rating.Type != 'video']\n",
    "games_info_with_rating.drop(columns=['Type', 'Price', 'Release_Date', 'Required_Age', 'Is_Multiplayer'], inplace=True)\n",
    "games_info_with_rating.Type.nunique()"
   ]
  },
  {
   "cell_type": "markdown",
   "metadata": {},
   "source": [
    "# Merge games info with games_1"
   ]
  },
  {
   "cell_type": "code",
   "execution_count": 6,
   "metadata": {},
   "outputs": [
    {
     "data": {
      "text/html": [
       "<div>\n",
       "<style scoped>\n",
       "    .dataframe tbody tr th:only-of-type {\n",
       "        vertical-align: middle;\n",
       "    }\n",
       "\n",
       "    .dataframe tbody tr th {\n",
       "        vertical-align: top;\n",
       "    }\n",
       "\n",
       "    .dataframe thead th {\n",
       "        text-align: right;\n",
       "    }\n",
       "</style>\n",
       "<table border=\"1\" class=\"dataframe\">\n",
       "  <thead>\n",
       "    <tr style=\"text-align: right;\">\n",
       "      <th></th>\n",
       "      <th>appid</th>\n",
       "      <th>Title</th>\n",
       "      <th>Rating</th>\n",
       "    </tr>\n",
       "  </thead>\n",
       "  <tbody>\n",
       "    <tr>\n",
       "      <th>26</th>\n",
       "      <td>4780</td>\n",
       "      <td>Medieval II: Total War™ Kingdoms</td>\n",
       "      <td>85</td>\n",
       "    </tr>\n",
       "    <tr>\n",
       "      <th>31</th>\n",
       "      <td>65980</td>\n",
       "      <td>Sid Meier's Civilization®: Beyond Earth™</td>\n",
       "      <td>81</td>\n",
       "    </tr>\n",
       "    <tr>\n",
       "      <th>67</th>\n",
       "      <td>25980</td>\n",
       "      <td>Majesty 2</td>\n",
       "      <td>72</td>\n",
       "    </tr>\n",
       "    <tr>\n",
       "      <th>73</th>\n",
       "      <td>207420</td>\n",
       "      <td>Wizorb</td>\n",
       "      <td>81</td>\n",
       "    </tr>\n",
       "    <tr>\n",
       "      <th>86</th>\n",
       "      <td>233210</td>\n",
       "      <td>Air Conflicts: Vietnam</td>\n",
       "      <td>43</td>\n",
       "    </tr>\n",
       "  </tbody>\n",
       "</table>\n",
       "</div>"
      ],
      "text/plain": [
       "     appid                                     Title  Rating\n",
       "26    4780          Medieval II: Total War™ Kingdoms      85\n",
       "31   65980  Sid Meier's Civilization®: Beyond Earth™      81\n",
       "67   25980                                 Majesty 2      72\n",
       "73  207420                                    Wizorb      81\n",
       "86  233210                    Air Conflicts: Vietnam      43"
      ]
     },
     "execution_count": 6,
     "metadata": {},
     "output_type": "execute_result"
    }
   ],
   "source": [
    "games_info_with_rating.head()"
   ]
  },
  {
   "cell_type": "code",
   "execution_count": 4,
   "metadata": {},
   "outputs": [],
   "source": [
    "merged_info_games = games_1_genres.merge(games_info_with_rating, on='appid', how='inner', suffixes=('', '_y'))\n",
    "merged_info_games.rename(columns={'playtime_2weeks_sum': 'user_2weeks_playtime'}, inplace=True)"
   ]
  },
  {
   "cell_type": "code",
   "execution_count": 5,
   "metadata": {},
   "outputs": [
    {
     "data": {
      "text/html": [
       "<div>\n",
       "<style scoped>\n",
       "    .dataframe tbody tr th:only-of-type {\n",
       "        vertical-align: middle;\n",
       "    }\n",
       "\n",
       "    .dataframe tbody tr th {\n",
       "        vertical-align: top;\n",
       "    }\n",
       "\n",
       "    .dataframe thead th {\n",
       "        text-align: right;\n",
       "    }\n",
       "</style>\n",
       "<table border=\"1\" class=\"dataframe\">\n",
       "  <thead>\n",
       "    <tr style=\"text-align: right;\">\n",
       "      <th></th>\n",
       "      <th>steamid</th>\n",
       "      <th>appid</th>\n",
       "      <th>playtime_2weeks</th>\n",
       "      <th>playtime_forever</th>\n",
       "      <th>user_2weeks_playtime</th>\n",
       "      <th>Genre</th>\n",
       "      <th>Title</th>\n",
       "      <th>Rating</th>\n",
       "    </tr>\n",
       "  </thead>\n",
       "  <tbody>\n",
       "    <tr>\n",
       "      <th>0</th>\n",
       "      <td>76561198014073590</td>\n",
       "      <td>55230</td>\n",
       "      <td>143.0</td>\n",
       "      <td>392.0</td>\n",
       "      <td>932.0</td>\n",
       "      <td>Action</td>\n",
       "      <td>Saints Row: The Third</td>\n",
       "      <td>84</td>\n",
       "    </tr>\n",
       "    <tr>\n",
       "      <th>1</th>\n",
       "      <td>76561198012546870</td>\n",
       "      <td>55230</td>\n",
       "      <td>686.0</td>\n",
       "      <td>1876.0</td>\n",
       "      <td>1314.0</td>\n",
       "      <td>Action</td>\n",
       "      <td>Saints Row: The Third</td>\n",
       "      <td>84</td>\n",
       "    </tr>\n",
       "    <tr>\n",
       "      <th>2</th>\n",
       "      <td>76561198012666560</td>\n",
       "      <td>55230</td>\n",
       "      <td>741.0</td>\n",
       "      <td>741.0</td>\n",
       "      <td>2141.0</td>\n",
       "      <td>Action</td>\n",
       "      <td>Saints Row: The Third</td>\n",
       "      <td>84</td>\n",
       "    </tr>\n",
       "    <tr>\n",
       "      <th>3</th>\n",
       "      <td>76561198012327490</td>\n",
       "      <td>55230</td>\n",
       "      <td>82.0</td>\n",
       "      <td>82.0</td>\n",
       "      <td>82.0</td>\n",
       "      <td>Action</td>\n",
       "      <td>Saints Row: The Third</td>\n",
       "      <td>84</td>\n",
       "    </tr>\n",
       "    <tr>\n",
       "      <th>4</th>\n",
       "      <td>76561198014451410</td>\n",
       "      <td>55230</td>\n",
       "      <td>30.0</td>\n",
       "      <td>2067.0</td>\n",
       "      <td>689.0</td>\n",
       "      <td>Action</td>\n",
       "      <td>Saints Row: The Third</td>\n",
       "      <td>84</td>\n",
       "    </tr>\n",
       "  </tbody>\n",
       "</table>\n",
       "</div>"
      ],
      "text/plain": [
       "             steamid  appid  playtime_2weeks  playtime_forever  \\\n",
       "0  76561198014073590  55230            143.0             392.0   \n",
       "1  76561198012546870  55230            686.0            1876.0   \n",
       "2  76561198012666560  55230            741.0             741.0   \n",
       "3  76561198012327490  55230             82.0              82.0   \n",
       "4  76561198014451410  55230             30.0            2067.0   \n",
       "\n",
       "   user_2weeks_playtime   Genre                  Title  Rating  \n",
       "0                 932.0  Action  Saints Row: The Third      84  \n",
       "1                1314.0  Action  Saints Row: The Third      84  \n",
       "2                2141.0  Action  Saints Row: The Third      84  \n",
       "3                  82.0  Action  Saints Row: The Third      84  \n",
       "4                 689.0  Action  Saints Row: The Third      84  "
      ]
     },
     "execution_count": 5,
     "metadata": {},
     "output_type": "execute_result"
    }
   ],
   "source": [
    "merged_info_games.head()"
   ]
  },
  {
   "cell_type": "code",
   "execution_count": 8,
   "metadata": {},
   "outputs": [],
   "source": [
    "merged_info_games.sort_values('steamid', ascending=False).to_csv(dataloc + 'processed/export/games_info_ratings.csv', index=False)"
   ]
  },
  {
   "cell_type": "markdown",
   "metadata": {},
   "source": [
    "# Get most played genre per user"
   ]
  },
  {
   "cell_type": "markdown",
   "metadata": {},
   "source": [
    "######  TODO maybe"
   ]
  },
  {
   "cell_type": "markdown",
   "metadata": {},
   "source": [
    "# Users weekly cleaning"
   ]
  },
  {
   "cell_type": "code",
   "execution_count": null,
   "metadata": {},
   "outputs": [],
   "source": [
    "users_weekly = pd.read_csv(dataloc + 'interim/export/User_Weekly_Time.csv')"
   ]
  },
  {
   "cell_type": "code",
   "execution_count": null,
   "metadata": {},
   "outputs": [],
   "source": [
    "users_weekly['playtime_2weeks'].max()"
   ]
  },
  {
   "cell_type": "code",
   "execution_count": null,
   "metadata": {},
   "outputs": [],
   "source": [
    "filtered_games = games_1[games_1['playtime_2weeks'] > 0.0]"
   ]
  },
  {
   "cell_type": "code",
   "execution_count": 7,
   "metadata": {},
   "outputs": [
    {
     "data": {
      "text/html": [
       "<div>\n",
       "<style scoped>\n",
       "    .dataframe tbody tr th:only-of-type {\n",
       "        vertical-align: middle;\n",
       "    }\n",
       "\n",
       "    .dataframe tbody tr th {\n",
       "        vertical-align: top;\n",
       "    }\n",
       "\n",
       "    .dataframe thead th {\n",
       "        text-align: right;\n",
       "    }\n",
       "</style>\n",
       "<table border=\"1\" class=\"dataframe\">\n",
       "  <thead>\n",
       "    <tr style=\"text-align: right;\">\n",
       "      <th></th>\n",
       "      <th>steamid</th>\n",
       "      <th>appid</th>\n",
       "      <th>playtime_2weeks</th>\n",
       "      <th>playtime_forever</th>\n",
       "      <th>dateretrieved</th>\n",
       "    </tr>\n",
       "  </thead>\n",
       "  <tbody>\n",
       "    <tr>\n",
       "      <th>0</th>\n",
       "      <td>76561198015117560</td>\n",
       "      <td>41500</td>\n",
       "      <td>NaN</td>\n",
       "      <td>1785.0</td>\n",
       "      <td>2013-06-25 08:26:33</td>\n",
       "    </tr>\n",
       "    <tr>\n",
       "      <th>1</th>\n",
       "      <td>76561198015117560</td>\n",
       "      <td>400</td>\n",
       "      <td>NaN</td>\n",
       "      <td>5.0</td>\n",
       "      <td>2013-06-25 08:26:33</td>\n",
       "    </tr>\n",
       "    <tr>\n",
       "      <th>2</th>\n",
       "      <td>76561198015117470</td>\n",
       "      <td>8600</td>\n",
       "      <td>NaN</td>\n",
       "      <td>5.0</td>\n",
       "      <td>2013-06-25 08:26:22</td>\n",
       "    </tr>\n",
       "    <tr>\n",
       "      <th>3</th>\n",
       "      <td>76561198015117470</td>\n",
       "      <td>8660</td>\n",
       "      <td>NaN</td>\n",
       "      <td>1.0</td>\n",
       "      <td>2013-06-25 08:26:22</td>\n",
       "    </tr>\n",
       "    <tr>\n",
       "      <th>4</th>\n",
       "      <td>76561198015117430</td>\n",
       "      <td>41500</td>\n",
       "      <td>NaN</td>\n",
       "      <td>1708.0</td>\n",
       "      <td>2013-06-25 08:26:18</td>\n",
       "    </tr>\n",
       "  </tbody>\n",
       "</table>\n",
       "</div>"
      ],
      "text/plain": [
       "             steamid  appid  playtime_2weeks  playtime_forever  \\\n",
       "0  76561198015117560  41500              NaN            1785.0   \n",
       "1  76561198015117560    400              NaN               5.0   \n",
       "2  76561198015117470   8600              NaN               5.0   \n",
       "3  76561198015117470   8660              NaN               1.0   \n",
       "4  76561198015117430  41500              NaN            1708.0   \n",
       "\n",
       "         dateretrieved  \n",
       "0  2013-06-25 08:26:33  \n",
       "1  2013-06-25 08:26:33  \n",
       "2  2013-06-25 08:26:22  \n",
       "3  2013-06-25 08:26:22  \n",
       "4  2013-06-25 08:26:18  "
      ]
     },
     "execution_count": 7,
     "metadata": {},
     "output_type": "execute_result"
    }
   ],
   "source": [
    "games_1.head()"
   ]
  },
  {
   "cell_type": "markdown",
   "metadata": {},
   "source": [
    "# Genre cleaning"
   ]
  },
  {
   "cell_type": "code",
   "execution_count": 9,
   "metadata": {},
   "outputs": [],
   "source": [
    "genres_of_interest = ['Action', 'Free to Play', 'Strategy', 'Adventure', 'Indie', 'RPG', 'Casual', 'Simulation', 'Racing', 'Massively Multiplayer', 'Sports', 'Early Access']"
   ]
  },
  {
   "cell_type": "code",
   "execution_count": 10,
   "metadata": {},
   "outputs": [
    {
     "data": {
      "text/plain": [
       "array(['Action', 'Free to Play', 'Strategy', 'Adventure', 'Indie', 'RPG',\n",
       "       'Animation & Modeling', 'Video Production', 'Casual', 'Simulation',\n",
       "       'Racing', 'Massively Multiplayer', 'Sports', 'Early Access',\n",
       "       'Photo Editing', 'Utilities', 'Design & Illustration', 'Education',\n",
       "       'Software Training', 'Web Publishing', 'Audio Production',\n",
       "       'Accounting'], dtype=object)"
      ]
     },
     "execution_count": 10,
     "metadata": {},
     "output_type": "execute_result"
    }
   ],
   "source": [
    "games_genres['Genre'].unique()"
   ]
  },
  {
   "cell_type": "code",
   "execution_count": null,
   "metadata": {},
   "outputs": [],
   "source": [
    "agged_games = pd.read_csv(dataloc + 'processed/export/Games_1_Genres_800k-3.csv')"
   ]
  },
  {
   "cell_type": "code",
   "execution_count": null,
   "metadata": {},
   "outputs": [],
   "source": [
    "print(agged_games['Genre'].nunique())\n",
    "print(len(agged_games.index))"
   ]
  },
  {
   "cell_type": "code",
   "execution_count": null,
   "metadata": {},
   "outputs": [],
   "source": [
    "merged_agged.head()"
   ]
  },
  {
   "cell_type": "markdown",
   "metadata": {},
   "source": [
    "# Filter wrong time data from users weekly\n",
    "Maximum amount of minutes possible in two weeks is 20160"
   ]
  },
  {
   "cell_type": "code",
   "execution_count": null,
   "metadata": {},
   "outputs": [],
   "source": [
    "users_weekly = users_weekly[users_weekly['playtime_2weeks'] < 20160]"
   ]
  },
  {
   "cell_type": "code",
   "execution_count": null,
   "metadata": {},
   "outputs": [],
   "source": [
    "users_weekly.rename(columns={'playtime_2weeks': 'playtime_2weeks_sum'}, inplace=True)"
   ]
  },
  {
   "cell_type": "code",
   "execution_count": null,
   "metadata": {},
   "outputs": [],
   "source": [
    "users_weekly.head(5)"
   ]
  },
  {
   "cell_type": "code",
   "execution_count": null,
   "metadata": {},
   "outputs": [],
   "source": [
    "users_weekly.to_csv(dataLoc + 'processed/Users_Weekly.csv', index=False)"
   ]
  },
  {
   "cell_type": "markdown",
   "metadata": {},
   "source": [
    "# Join datasets"
   ]
  },
  {
   "cell_type": "code",
   "execution_count": null,
   "metadata": {},
   "outputs": [],
   "source": [
    "joined = games_1.merge(users_weekly, on='steamid', how='inner').dropna()"
   ]
  },
  {
   "cell_type": "code",
   "execution_count": null,
   "metadata": {},
   "outputs": [],
   "source": [
    "joined_genres = joined.merge(games_genres, on='appid', how='inner')\n",
    "joined_genres.set_index('steamid')"
   ]
  },
  {
   "cell_type": "markdown",
   "metadata": {},
   "source": [
    "#### Sort dataframe on steamid"
   ]
  },
  {
   "cell_type": "code",
   "execution_count": null,
   "metadata": {},
   "outputs": [],
   "source": [
    "sorted_genres = joined_genres.set_index('steamid')"
   ]
  },
  {
   "cell_type": "code",
   "execution_count": null,
   "metadata": {},
   "outputs": [],
   "source": [
    "joined_genres.head(5)"
   ]
  },
  {
   "cell_type": "code",
   "execution_count": null,
   "metadata": {},
   "outputs": [],
   "source": [
    "joined['steamid'].nunique().compute()"
   ]
  },
  {
   "cell_type": "markdown",
   "metadata": {},
   "source": [
    "# Repartition the smaller dataset into 1 partition"
   ]
  },
  {
   "cell_type": "code",
   "execution_count": null,
   "metadata": {},
   "outputs": [],
   "source": [
    "small = joined_genres.sample(frac=0.0475)\n",
    "reparted_small = small.repartition(npartitions=1).compute()"
   ]
  },
  {
   "cell_type": "code",
   "execution_count": null,
   "metadata": {},
   "outputs": [],
   "source": [
    "print(len(small.index))"
   ]
  },
  {
   "cell_type": "code",
   "execution_count": null,
   "metadata": {},
   "outputs": [],
   "source": [
    "sorted_small = reparted_small.set_index('steamid')"
   ]
  },
  {
   "cell_type": "code",
   "execution_count": null,
   "metadata": {},
   "outputs": [],
   "source": [
    "reparted_small.to_csv(dataLoc + 'processed/export/Games_1_Genres_800k-3.csv', index=False)"
   ]
  },
  {
   "cell_type": "markdown",
   "metadata": {},
   "source": [
    "# Get total playtime over 2 weeks and most played genre per user\n",
    "Group by steam id, genre and sum by playtime 2weeks"
   ]
  },
  {
   "cell_type": "code",
   "execution_count": null,
   "metadata": {},
   "outputs": [],
   "source": [
    "users_weekly = games_1.groupby(['steamid'])['playtime_2weeks'].sum().reset_index().compute()"
   ]
  },
  {
   "cell_type": "code",
   "execution_count": null,
   "metadata": {},
   "outputs": [],
   "source": [
    "users_weekly.head()"
   ]
  },
  {
   "cell_type": "code",
   "execution_count": null,
   "metadata": {},
   "outputs": [],
   "source": [
    "top_genre = games_1.compute().sort_values('playtime_2weeks', ascending=False).drop_duplicates(['steamid'])"
   ]
  },
  {
   "cell_type": "code",
   "execution_count": null,
   "metadata": {},
   "outputs": [],
   "source": [
    "top_genre.head()"
   ]
  },
  {
   "cell_type": "code",
   "execution_count": null,
   "metadata": {},
   "outputs": [],
   "source": [
    "users_top_weekly = games_1.groupby('steamid')['appid']"
   ]
  },
  {
   "cell_type": "code",
   "execution_count": null,
   "metadata": {},
   "outputs": [],
   "source": [
    "users_top_weekly.head()"
   ]
  },
  {
   "cell_type": "markdown",
   "metadata": {},
   "source": [
    "# TODO\n",
    "Get game with max playtime_2weeks per user"
   ]
  },
  {
   "cell_type": "markdown",
   "metadata": {},
   "source": [
    "<h1>Filter out zero playtime</h1>"
   ]
  },
  {
   "cell_type": "code",
   "execution_count": null,
   "metadata": {},
   "outputs": [],
   "source": [
    "users2 = users_weekly[users_weekly['playtime_2weeks'] > 0.0]"
   ]
  },
  {
   "cell_type": "code",
   "execution_count": null,
   "metadata": {
    "scrolled": true
   },
   "outputs": [],
   "source": [
    "users2.head(5)"
   ]
  },
  {
   "cell_type": "code",
   "execution_count": null,
   "metadata": {},
   "outputs": [],
   "source": [
    "users2['playtime_2weeks'].max()"
   ]
  },
  {
   "cell_type": "code",
   "execution_count": null,
   "metadata": {},
   "outputs": [],
   "source": [
    "users2.to_csv(dataLoc + 'interim/export/User_Weekly_Time.csv', index=False)"
   ]
  },
  {
   "cell_type": "code",
   "execution_count": null,
   "metadata": {},
   "outputs": [],
   "source": [
    "len(users2.index)"
   ]
  }
 ],
 "metadata": {
  "kernelspec": {
   "display_name": "Python 3",
   "language": "python",
   "name": "python3"
  },
  "language_info": {
   "codemirror_mode": {
    "name": "ipython",
    "version": 3
   },
   "file_extension": ".py",
   "mimetype": "text/x-python",
   "name": "python",
   "nbconvert_exporter": "python",
   "pygments_lexer": "ipython3",
   "version": "3.8.0"
  }
 },
 "nbformat": 4,
 "nbformat_minor": 4
}
